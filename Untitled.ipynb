{
 "cells": [
  {
   "cell_type": "code",
   "execution_count": 6,
   "id": "49b1ab8e",
   "metadata": {},
   "outputs": [],
   "source": [
    "import cv2\n",
    "import numpy as np\n",
    "import time\n",
    "import pyautogui as pg"
   ]
  },
  {
   "cell_type": "code",
   "execution_count": 15,
   "id": "b030c4e2",
   "metadata": {},
   "outputs": [
    {
     "name": "stdout",
     "output_type": "stream",
     "text": [
      "None\n"
     ]
    }
   ],
   "source": [
    "screenshot = pg.screenshot(region=(400,300, 300, 400))\n",
    "\n",
    "# adjust colors\n",
    "screenshot = cv2.cvtColor(np.array(screenshot), cv2.COLOR_RGB2BGR)\n",
    "\n",
    "board = pg.locateOnScreen('005.png')\n",
    "print(board)"
   ]
  },
  {
   "cell_type": "code",
   "execution_count": 4,
   "id": "fd7fa0d0",
   "metadata": {},
   "outputs": [],
   "source": [
    "cv2.imshow('sc', screenshot)\n",
    "cv2.waitKey(1000)\n",
    "cv2.destroyAllWindows()"
   ]
  },
  {
   "cell_type": "code",
   "execution_count": 8,
   "id": "98866814",
   "metadata": {},
   "outputs": [],
   "source": [
    "for i in range(20):\n",
    "    time.sleep(0.5)\n",
    "    pg.write(' ', interval = 0.5)"
   ]
  },
  {
   "cell_type": "code",
   "execution_count": 23,
   "id": "93462f9a",
   "metadata": {},
   "outputs": [],
   "source": [
    "import random\n",
    "\n",
    "BOARD_WIDTH = 10\n",
    "BOARD_HEIGHT = 20\n",
    "\n",
    "I_PIECE = [    [0, 0, 0, 0],\n",
    "    [1, 1, 1, 1],\n",
    "    [0, 0, 0, 0],\n",
    "    [0, 0, 0, 0]\n",
    "]\n",
    "\n",
    "J_PIECE = [    [1, 0, 0],\n",
    "    [1, 1, 1],\n",
    "    [0, 0, 0]\n",
    "]\n",
    "\n",
    "L_PIECE = [    [0, 0, 1],\n",
    "    [1, 1, 1],\n",
    "    [0, 0, 0]\n",
    "]\n",
    "\n",
    "O_PIECE = [    [1, 1],\n",
    "    [1, 1]\n",
    "]\n",
    "\n",
    "S_PIECE = [    [0, 1, 1],\n",
    "    [1, 1, 0],\n",
    "    [0, 0, 0]\n",
    "]\n",
    "\n",
    "T_PIECE = [    [0, 1, 0],\n",
    "    [1, 1, 1],\n",
    "    [0, 0, 0]\n",
    "]\n",
    "\n",
    "Z_PIECE = [    [1, 1, 0],\n",
    "    [0, 1, 1],\n",
    "    [0, 0, 0]\n",
    "]\n",
    "\n",
    "PIECES = [I_PIECE, J_PIECE, L_PIECE, O_PIECE, S_PIECE, T_PIECE, Z_PIECE]"
   ]
  },
  {
   "cell_type": "code",
   "execution_count": null,
   "id": "7e016dda",
   "metadata": {},
   "outputs": [],
   "source": []
  }
 ],
 "metadata": {
  "kernelspec": {
   "display_name": "Python 3 (ipykernel)",
   "language": "python",
   "name": "python3"
  },
  "language_info": {
   "codemirror_mode": {
    "name": "ipython",
    "version": 3
   },
   "file_extension": ".py",
   "mimetype": "text/x-python",
   "name": "python",
   "nbconvert_exporter": "python",
   "pygments_lexer": "ipython3",
   "version": "3.9.13"
  }
 },
 "nbformat": 4,
 "nbformat_minor": 5
}
